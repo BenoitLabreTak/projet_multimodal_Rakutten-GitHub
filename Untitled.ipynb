{
 "cells": [
  {
   "cell_type": "code",
   "execution_count": 3,
   "id": "05bb14f1",
   "metadata": {},
   "outputs": [
    {
     "name": "stdout",
     "output_type": "stream",
     "text": [
      "train.csv: 679 lignes exportées vers data2/retraining_text/train_1pct.csv\n",
      "val.csv: 85 lignes exportées vers data2/retraining_text/val_1pct.csv\n",
      "test.csv: 85 lignes exportées vers data2/retraining_text/test_1pct.csv\n"
     ]
    }
   ],
   "source": [
    "import pandas as pd\n",
    "import os\n",
    "\n",
    "# Répertoires d'origine\n",
    "data_dir = \"data2/text\"  # adapte si besoin\n",
    "output_dir = \"data2/retraining_text\"\n",
    "os.makedirs(output_dir, exist_ok=True)\n",
    "\n",
    "# Liste des fichiers à échantillonner\n",
    "files = [\"train.csv\", \"val.csv\", \"test.csv\"]\n",
    "\n",
    "for filename in files:\n",
    "    input_path = os.path.join(data_dir, filename)\n",
    "    output_path = os.path.join(output_dir, filename.replace(\".csv\", \"_1pct.csv\"))\n",
    "\n",
    "    df = pd.read_csv(input_path)\n",
    "    df_sample = df.sample(frac=0.01, random_state=42)\n",
    "    df_sample.to_csv(output_path, index=False)\n",
    "\n",
    "    print(f\"{filename}: {len(df_sample)} lignes exportées vers {output_path}\")"
   ]
  },
  {
   "cell_type": "code",
   "execution_count": 4,
   "id": "28ce1a11",
   "metadata": {},
   "outputs": [
    {
     "name": "stdout",
     "output_type": "stream",
     "text": [
      "train: 679 images copiées vers data2/retraining_images/train\n",
      "val: 85 images copiées vers data2/retraining_images/val\n",
      "test: 85 images copiées vers data2/retraining_images/test\n"
     ]
    }
   ],
   "source": [
    "import shutil\n",
    "\n",
    "# Dossier contenant toutes les images\n",
    "image_src_dir = \"data2/images\"\n",
    "# Dossier de destination pour les images échantillonnées\n",
    "image_dest_base = \"data2/retraining_images\"\n",
    "os.makedirs(image_dest_base, exist_ok=True)\n",
    "\n",
    "for split in [\"train\", \"val\", \"test\"]:\n",
    "    csv_path = f\"data2/retraining_text/{split}_1pct.csv\"\n",
    "    image_dest_dir = os.path.join(image_dest_base, split)\n",
    "    os.makedirs(image_dest_dir, exist_ok=True)\n",
    "\n",
    "    df = pd.read_csv(csv_path)\n",
    "\n",
    "    copied = 0\n",
    "    for _, row in df.iterrows():\n",
    "        image_name = f\"image_{int(row['imageid'])}_product_{int(row['productid'])}.jpg\"\n",
    "        src_path = os.path.join(image_src_dir, split, image_name)\n",
    "        dest_path = os.path.join(image_dest_dir, image_name)\n",
    "\n",
    "        if os.path.exists(src_path):\n",
    "            shutil.copy(src_path, dest_path)\n",
    "            copied += 1\n",
    "        else:\n",
    "            print(f\"[⚠️] Image manquante : {src_path}\")\n",
    "\n",
    "    print(f\"{split}: {copied} images copiées vers {image_dest_dir}\")"
   ]
  },
  {
   "cell_type": "code",
   "execution_count": null,
   "id": "4f4d041b",
   "metadata": {},
   "outputs": [],
   "source": []
  }
 ],
 "metadata": {
  "kernelspec": {
   "display_name": "Python [conda env:base] *",
   "language": "python",
   "name": "conda-base-py"
  },
  "language_info": {
   "codemirror_mode": {
    "name": "ipython",
    "version": 3
   },
   "file_extension": ".py",
   "mimetype": "text/x-python",
   "name": "python",
   "nbconvert_exporter": "python",
   "pygments_lexer": "ipython3",
   "version": "3.12.2"
  }
 },
 "nbformat": 4,
 "nbformat_minor": 5
}
